{
  "nbformat": 4,
  "nbformat_minor": 0,
  "metadata": {
    "colab": {
      "name": "class530-first-class.ipynb",
      "provenance": []
    },
    "kernelspec": {
      "name": "python3",
      "display_name": "Python 3"
    }
  },
  "cells": [
    {
      "cell_type": "code",
      "metadata": {
        "colab": {
          "base_uri": "https://localhost:8080/"
        },
        "id": "sXkHuRFCEf4l",
        "outputId": "0b8af4ce-703a-4302-a697-ea637e3734a5"
      },
      "source": [
        "a = 10\r\n",
        "b = 10.5\r\n",
        "c = \"Hello World\"\r\n",
        "print(a,b,c)"
      ],
      "execution_count": 1,
      "outputs": [
        {
          "output_type": "stream",
          "text": [
            "10 10.5 Hello World\n"
          ],
          "name": "stdout"
        }
      ]
    },
    {
      "cell_type": "code",
      "metadata": {
        "colab": {
          "base_uri": "https://localhost:8080/"
        },
        "id": "C-yZ3FmWGrvE",
        "outputId": "ab6a516e-37e1-4f78-ac77-ed3585a53d61"
      },
      "source": [
        "a\r\n",
        "b"
      ],
      "execution_count": 3,
      "outputs": [
        {
          "output_type": "execute_result",
          "data": {
            "text/plain": [
              "10.5"
            ]
          },
          "metadata": {
            "tags": []
          },
          "execution_count": 3
        }
      ]
    },
    {
      "cell_type": "code",
      "metadata": {
        "colab": {
          "base_uri": "https://localhost:8080/"
        },
        "id": "TSQYq7dLFexb",
        "outputId": "feef5c10-05bc-477f-d837-99e069cb4f26"
      },
      "source": [
        "print(a)\r\n",
        "print(b)\r\n",
        "print(c)"
      ],
      "execution_count": null,
      "outputs": [
        {
          "output_type": "stream",
          "text": [
            "10\n",
            "10.5\n",
            "Hello World\n"
          ],
          "name": "stdout"
        }
      ]
    },
    {
      "cell_type": "code",
      "metadata": {
        "colab": {
          "base_uri": "https://localhost:8080/"
        },
        "id": "OZT-aOvLF18p",
        "outputId": "20abfc27-792a-489a-d1f5-74403356ae34"
      },
      "source": [
        "print(type(a))\r\n",
        "print(type(b))\r\n",
        "print(type(c))"
      ],
      "execution_count": null,
      "outputs": [
        {
          "output_type": "stream",
          "text": [
            "<class 'int'>\n",
            "<class 'float'>\n",
            "<class 'str'>\n"
          ],
          "name": "stdout"
        }
      ]
    },
    {
      "cell_type": "code",
      "metadata": {
        "id": "UrDYtEX2GXxo"
      },
      "source": [
        "# + - / * // ** %"
      ],
      "execution_count": 4,
      "outputs": []
    },
    {
      "cell_type": "code",
      "metadata": {
        "colab": {
          "base_uri": "https://localhost:8080/"
        },
        "id": "pJkgIvgPHjpI",
        "outputId": "f5e0853b-7784-4a10-fca8-0c8551ad9941"
      },
      "source": [
        "a = 5\r\n",
        "b = 2\r\n",
        "print(a%b)"
      ],
      "execution_count": 10,
      "outputs": [
        {
          "output_type": "stream",
          "text": [
            "1\n"
          ],
          "name": "stdout"
        }
      ]
    },
    {
      "cell_type": "code",
      "metadata": {
        "colab": {
          "base_uri": "https://localhost:8080/"
        },
        "id": "Tkk5uHEhHnOG",
        "outputId": "3a752901-2543-4407-bba7-da111fc3d0e7"
      },
      "source": [
        "p = 1000\r\n",
        "t = 2\r\n",
        "r = 20\r\n",
        "i = p*t*r/100\r\n",
        "print(i)"
      ],
      "execution_count": null,
      "outputs": [
        {
          "output_type": "stream",
          "text": [
            "400.0\n"
          ],
          "name": "stdout"
        }
      ]
    },
    {
      "cell_type": "code",
      "metadata": {
        "colab": {
          "base_uri": "https://localhost:8080/"
        },
        "id": "dxamHIcRH-Nz",
        "outputId": "23f718a0-3941-45d8-96de-df06c0cb10b0"
      },
      "source": [
        "a = \"Hello \"\n",
        "b = \"World\"  \n",
        "print(a+b)   #the data values are in strings so it is termed as concatination\n"
      ],
      "execution_count": null,
      "outputs": [
        {
          "output_type": "stream",
          "text": [
            "Hello World\n"
          ],
          "name": "stdout"
        }
      ]
    },
    {
      "cell_type": "code",
      "metadata": {
        "colab": {
          "base_uri": "https://localhost:8080/"
        },
        "id": "G_-uttdqIbZX",
        "outputId": "e5c442d5-6c21-42ea-8f8c-2b0d700bc880"
      },
      "source": [
        "a = '10'\n",
        "b = \"20\"\n",
        "print(a+b)  #numbers are in integers form so it concatinates"
      ],
      "execution_count": null,
      "outputs": [
        {
          "output_type": "stream",
          "text": [
            "1020\n"
          ],
          "name": "stdout"
        }
      ]
    },
    {
      "cell_type": "code",
      "metadata": {
        "colab": {
          "base_uri": "https://localhost:8080/"
        },
        "id": "YBsdRu_CItI7",
        "outputId": "df925d02-2621-454d-82de-0211bf065d79"
      },
      "source": [
        "a = 10\r\n",
        "b = 20\r\n",
        "print(a+b)"
      ],
      "execution_count": null,
      "outputs": [
        {
          "output_type": "stream",
          "text": [
            "30\n"
          ],
          "name": "stdout"
        }
      ]
    },
    {
      "cell_type": "code",
      "metadata": {
        "colab": {
          "base_uri": "https://localhost:8080/"
        },
        "id": "T8wWStn_I7JB",
        "outputId": "29087f8a-3cbf-4e72-bd08-ad5ebc35e346"
      },
      "source": [
        "a = \"Hello World\"\r\n",
        "print(a*3)"
      ],
      "execution_count": null,
      "outputs": [
        {
          "output_type": "stream",
          "text": [
            "Hello WorldHello WorldHello World\n"
          ],
          "name": "stdout"
        }
      ]
    },
    {
      "cell_type": "code",
      "metadata": {
        "colab": {
          "base_uri": "https://localhost:8080/"
        },
        "id": "Q0N_llmAJDdr",
        "outputId": "8314d623-9443-489a-b9b4-9e5fa5f88e4d"
      },
      "source": [
        "a = \"Hello World\\n\"\r\n",
        "print(a*3)"
      ],
      "execution_count": null,
      "outputs": [
        {
          "output_type": "stream",
          "text": [
            "Hello World\n",
            "Hello World\n",
            "Hello World\n",
            "\n"
          ],
          "name": "stdout"
        }
      ]
    },
    {
      "cell_type": "code",
      "metadata": {
        "colab": {
          "base_uri": "https://localhost:8080/"
        },
        "id": "xa0U-RgKJLus",
        "outputId": "ec6fc660-72f7-422d-84d0-fc709da34430"
      },
      "source": [
        "# data type conversion\r\n",
        "# int()\r\n",
        "a = \"10\"\r\n",
        "b = 20\r\n",
        "print(int(a)+b)"
      ],
      "execution_count": null,
      "outputs": [
        {
          "output_type": "stream",
          "text": [
            "30\n"
          ],
          "name": "stdout"
        }
      ]
    },
    {
      "cell_type": "code",
      "metadata": {
        "colab": {
          "base_uri": "https://localhost:8080/"
        },
        "id": "bvuuTjhhJhsC",
        "outputId": "2b0e7c9b-6a63-4a9c-a604-7f1a1baa9d74"
      },
      "source": [
        "# str()\r\n",
        "a = \"10\"\r\n",
        "b = 20\r\n",
        "print(a+str(b))"
      ],
      "execution_count": null,
      "outputs": [
        {
          "output_type": "stream",
          "text": [
            "1020\n"
          ],
          "name": "stdout"
        }
      ]
    },
    {
      "cell_type": "code",
      "metadata": {
        "id": "Jq-z0pZ3puCl"
      },
      "source": [
        "a = \"10\"\r\n",
        "b = int(a)"
      ],
      "execution_count": null,
      "outputs": []
    },
    {
      "cell_type": "markdown",
      "metadata": {
        "id": "x8xwUzimpq8m"
      },
      "source": []
    },
    {
      "cell_type": "code",
      "metadata": {
        "colab": {
          "base_uri": "https://localhost:8080/"
        },
        "id": "w-HiCojMKHes",
        "outputId": "966d50a3-1287-40a1-9847-680aca2e418e"
      },
      "source": [
        "a = 10\r\n",
        "print(float(a))"
      ],
      "execution_count": null,
      "outputs": [
        {
          "output_type": "stream",
          "text": [
            "10.0\n"
          ],
          "name": "stdout"
        }
      ]
    },
    {
      "cell_type": "code",
      "metadata": {
        "colab": {
          "base_uri": "https://localhost:8080/",
          "height": 180
        },
        "id": "8EbWU432KLsg",
        "outputId": "95272b9e-3f3f-4946-b0c2-8ba9d21f77a5"
      },
      "source": [
        "a = \"Ten\"\r\n",
        "int(a)"
      ],
      "execution_count": null,
      "outputs": [
        {
          "output_type": "error",
          "ename": "ValueError",
          "evalue": "ignored",
          "traceback": [
            "\u001b[0;31m---------------------------------------------------------------------------\u001b[0m",
            "\u001b[0;31mValueError\u001b[0m                                Traceback (most recent call last)",
            "\u001b[0;32m<ipython-input-30-038f463e11b0>\u001b[0m in \u001b[0;36m<module>\u001b[0;34m()\u001b[0m\n\u001b[1;32m      1\u001b[0m \u001b[0ma\u001b[0m \u001b[0;34m=\u001b[0m \u001b[0;34m\"Ten\"\u001b[0m\u001b[0;34m\u001b[0m\u001b[0;34m\u001b[0m\u001b[0m\n\u001b[0;32m----> 2\u001b[0;31m \u001b[0mint\u001b[0m\u001b[0;34m(\u001b[0m\u001b[0ma\u001b[0m\u001b[0;34m)\u001b[0m\u001b[0;34m\u001b[0m\u001b[0;34m\u001b[0m\u001b[0m\n\u001b[0m",
            "\u001b[0;31mValueError\u001b[0m: invalid literal for int() with base 10: 'Ten'"
          ]
        }
      ]
    },
    {
      "cell_type": "code",
      "metadata": {
        "colab": {
          "base_uri": "https://localhost:8080/"
        },
        "id": "HTSOrBQXKcfy",
        "outputId": "25c10778-d5b3-4470-e0e5-558184b6546e"
      },
      "source": [
        "# input()\r\n",
        "a = input(\"Enter a = \")\r\n",
        "b = input(\"Enter b = \")\r\n",
        "print(a+b)"
      ],
      "execution_count": null,
      "outputs": [
        {
          "output_type": "stream",
          "text": [
            "Enter a = 10\n",
            "Enter b = 20\n",
            "1020\n"
          ],
          "name": "stdout"
        }
      ]
    },
    {
      "cell_type": "code",
      "metadata": {
        "colab": {
          "base_uri": "https://localhost:8080/"
        },
        "id": "CM5iLJmkK1dZ",
        "outputId": "a37c1544-9cea-4e82-aad7-fd1753d200a3"
      },
      "source": [
        "# input()\r\n",
        "a = int(input(\"Enter a = \"))\r\n",
        "b = int(input(\"Enter b = \"))\r\n",
        "print(a+b)"
      ],
      "execution_count": null,
      "outputs": [
        {
          "output_type": "stream",
          "text": [
            "Enter a = 10\n",
            "Enter b = 0\n",
            "10\n"
          ],
          "name": "stdout"
        }
      ]
    },
    {
      "cell_type": "code",
      "metadata": {
        "colab": {
          "base_uri": "https://localhost:8080/"
        },
        "id": "kf1LLoS8LBgl",
        "outputId": "ab6ee9fe-0621-4fbb-d3da-44231f5a7632"
      },
      "source": [
        "p = int(input(\"Enter p = \"))\r\n",
        "t = float(input(\"Enter t = \"))\r\n",
        "r = float(input(\"Enter r = \"))\r\n",
        "\r\n",
        "i = p*t*r/100\r\n",
        "print(\"The value of i is = \",i)\r\n"
      ],
      "execution_count": null,
      "outputs": [
        {
          "output_type": "stream",
          "text": [
            "Enter p = 1000\n",
            "Enter t = 2.4\n",
            "Enter r = 10\n",
            "The value of i is =  240.0\n"
          ],
          "name": "stdout"
        }
      ]
    },
    {
      "cell_type": "code",
      "metadata": {
        "colab": {
          "base_uri": "https://localhost:8080/",
          "height": 35
        },
        "id": "VkCUtwWsLnGi",
        "outputId": "400ffd14-496d-4f1d-984a-a8597b9580bd"
      },
      "source": [
        "a = \"Hello World\"\r\n",
        "a[-1]"
      ],
      "execution_count": null,
      "outputs": [
        {
          "output_type": "execute_result",
          "data": {
            "application/vnd.google.colaboratory.intrinsic+json": {
              "type": "string"
            },
            "text/plain": [
              "'e'"
            ]
          },
          "metadata": {
            "tags": []
          },
          "execution_count": 49
        }
      ]
    },
    {
      "cell_type": "code",
      "metadata": {
        "colab": {
          "base_uri": "https://localhost:8080/"
        },
        "id": "7w_2QinxM27W",
        "outputId": "0778f17a-1af6-44c3-f2f7-2cac3cd88972"
      },
      "source": [
        "# String Slicing\r\n",
        "a = \"Hello World\"\r\n",
        "b = a[0:5]\r\n",
        "c = a[5:]\r\n",
        "print(b,c)"
      ],
      "execution_count": null,
      "outputs": [
        {
          "output_type": "stream",
          "text": [
            "Hello  World\n"
          ],
          "name": "stdout"
        }
      ]
    },
    {
      "cell_type": "code",
      "metadata": {
        "colab": {
          "base_uri": "https://localhost:8080/",
          "height": 35
        },
        "id": "3QCfDRIkNZyp",
        "outputId": "720db2b2-cc81-4dbe-d7a8-ac2fbd2ec4e3"
      },
      "source": [
        "a = \"Hello World\"\r\n",
        "a[0:100]"
      ],
      "execution_count": null,
      "outputs": [
        {
          "output_type": "execute_result",
          "data": {
            "application/vnd.google.colaboratory.intrinsic+json": {
              "type": "string"
            },
            "text/plain": [
              "'Hello World'"
            ]
          },
          "metadata": {
            "tags": []
          },
          "execution_count": 50
        }
      ]
    },
    {
      "cell_type": "code",
      "metadata": {
        "colab": {
          "base_uri": "https://localhost:8080/",
          "height": 35
        },
        "id": "dUKhlU_tOuqW",
        "outputId": "f78a3d69-2e39-4e30-92c9-684e1576d42e"
      },
      "source": [
        "a = \"Hello World\"\r\n",
        "a[0:11:2]"
      ],
      "execution_count": null,
      "outputs": [
        {
          "output_type": "execute_result",
          "data": {
            "application/vnd.google.colaboratory.intrinsic+json": {
              "type": "string"
            },
            "text/plain": [
              "'HloWrd'"
            ]
          },
          "metadata": {
            "tags": []
          },
          "execution_count": 55
        }
      ]
    },
    {
      "cell_type": "code",
      "metadata": {
        "colab": {
          "base_uri": "https://localhost:8080/",
          "height": 35
        },
        "id": "AQ_uafFJPIba",
        "outputId": "740bbc87-6ebe-4395-e402-926c1669d42c"
      },
      "source": [
        "a = \"Hello World\"\r\n",
        "a[10::-1]"
      ],
      "execution_count": null,
      "outputs": [
        {
          "output_type": "execute_result",
          "data": {
            "application/vnd.google.colaboratory.intrinsic+json": {
              "type": "string"
            },
            "text/plain": [
              "'dlroW olleH'"
            ]
          },
          "metadata": {
            "tags": []
          },
          "execution_count": 58
        }
      ]
    },
    {
      "cell_type": "code",
      "metadata": {
        "colab": {
          "base_uri": "https://localhost:8080/"
        },
        "id": "VSu7oga8P2TH",
        "outputId": "6ea5d722-76cf-4e3a-fbfd-d2c1ab789889"
      },
      "source": [
        "name = input(\"Enter ame = \")\r\n",
        "age = int(input(\"Enter age = \"))\r\n",
        "add = input(\"Enter address = \")\r\n",
        "\r\n",
        "info = \"Hello my name is \"+ name + \". I am \"+str(age)+\". I am from \"+add\r\n",
        "print(info)"
      ],
      "execution_count": null,
      "outputs": [
        {
          "output_type": "stream",
          "text": [
            "Enter ame = Ram\n",
            "Enter age = 56\n",
            "Enter address = kathmandu\n",
            "Hello my name is Ram. I am 56. I am from kathmandu\n"
          ],
          "name": "stdout"
        }
      ]
    },
    {
      "cell_type": "code",
      "metadata": {
        "id": "Q4gcSuHhRHt4"
      },
      "source": [],
      "execution_count": null,
      "outputs": []
    }
  ]
}